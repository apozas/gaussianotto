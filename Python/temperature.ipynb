{
 "cells": [
  {
   "cell_type": "markdown",
   "metadata": {},
   "source": [
    "Code used for creating Fig. 2 in [New Journal of Physics 20, 043034 (2018)](https://dx.doi.org/10.1088/1367-2630/aaba02)\n",
    "----\n",
    "Models the interaction between a harmonic oscillator WM and a ring of harmonic oscillators initialized in a thermal state. After the interaction the effective temperature of the WM is computed.\n",
    "\n",
    "authors:     Alejandro Pozas-Kerstjens, Karen V. Hovhanissyan,\n",
    "             Eric G. Brown\n",
    "\n",
    "requires:    NumPy, SciPy, Matplotlib\n",
    "\n",
    "last update: Sep, 2017"
   ]
  },
  {
   "cell_type": "code",
   "execution_count": 1,
   "metadata": {
    "collapsed": true
   },
   "outputs": [],
   "source": [
    "import matplotlib.pyplot as plt\n",
    "from matplotlib.colors import BoundaryNorm\n",
    "from matplotlib.ticker import MaxNLocator\n",
    "import numpy as np\n",
    "import scipy.linalg\n",
    "\n",
    "from functions import *"
   ]
  },
  {
   "cell_type": "markdown",
   "metadata": {},
   "source": [
    "Choice of parameters\n",
    "-----------"
   ]
  },
  {
   "cell_type": "code",
   "execution_count": 2,
   "metadata": {
    "collapsed": true
   },
   "outputs": [],
   "source": [
    "# WM frequency\n",
    "Om       = 2\n",
    "\n",
    "# Bath frequency\n",
    "Ob       = 2\n",
    "\n",
    "# Interaction strength with the bath\n",
    "gamma    = 0.1\n",
    "\n",
    "# Nearest-neighbor ring coupling strength\n",
    "alpha    = 0.1\n",
    "\n",
    "# Bath and WM temperature\n",
    "Tb       = 4\n",
    "Tm       = 0.5\n",
    "\n",
    "# Number of modes in the bath\n",
    "N        = np.linspace(2, 20, 19)\n",
    "\n",
    "# Time of interaction with the bath; must be at least 2*delta\n",
    "tf       = np.linspace(1, 200, 200)\n",
    "\n",
    "# Set of bath modes with which the WM interacts\n",
    "interact = 1"
   ]
  },
  {
   "cell_type": "markdown",
   "metadata": {},
   "source": [
    "Computations\n",
    "-----"
   ]
  },
  {
   "cell_type": "code",
   "execution_count": 3,
   "metadata": {},
   "outputs": [
    {
     "name": "stderr",
     "output_type": "stream",
     "text": [
      "c:\\python\\python35\\lib\\site-packages\\ipykernel_launcher.py:40: ComplexWarning: Casting complex values to real discards the imaginary part\n"
     ]
    }
   ],
   "source": [
    "# Initial detector state\n",
    "sigDetI = np.eye(2) * (np.exp(Om / Tm) + 1) / (np.exp(Om / Tm) - 1)\n",
    "Teff    = np.zeros((len(tf), len(N)))\n",
    "\n",
    "for i, n in enumerate(N):\n",
    "    for j, time in enumerate(tf):\n",
    "        n      = int(n)\n",
    "        # Bath oscillators' frequencies\n",
    "        freqs  = Ob * np.ones(n)\n",
    "        \n",
    "        # Baths' nearest-neighbour couplings\n",
    "        alphas = alpha * np.ones(n - 1)\n",
    "        \n",
    "        # Ramp-up time; want it to be large compared to inverse WM's\n",
    "        # frequency so as to remain approximately adiabatic\n",
    "        delta  = 0.1 * time\n",
    "        \n",
    "        # Bath free Hamiltonian.\n",
    "        Ffree  = FreeRing(n, freqs, alphas)\n",
    "        \n",
    "        # Initialize global state of the system (WM plus bath)\n",
    "        sigI   = scipy.linalg.block_diag(sigDetI, Initialize(n, Tb, Ffree))\n",
    "                \n",
    "        # Initialize time steps for numerical integrations\n",
    "        dt     = 0.01\n",
    "        steps  = int(np.floor(time / dt))\n",
    "        dt     = time / steps    # Recompute dt to account for rounding\n",
    "        t      = np.linspace(0, time, steps)\n",
    "        lambd  = Switching(t, delta)\n",
    "        \n",
    "        # Compute the symplectic evolution for the interaction.\n",
    "        S      = MakeStimeIndep(n, Om, gamma, interact, t, delta, lambd, Ffree)\n",
    "        sigF   = dot(S, dot(sigI, S.T))\n",
    "        \n",
    "        # Compute WM's temperature\n",
    "        sigDetF    = sigF[:2, :2]\n",
    "        eigen      = scipy.linalg.eigvals(sigDetF)\n",
    "        nu         = np.sqrt(np.prod(eigen))\n",
    "        \n",
    "        Teff[j, i] = Om / (np.log((nu + 1) / (nu - 1)))"
   ]
  },
  {
   "cell_type": "markdown",
   "metadata": {},
   "source": [
    "Plots\n",
    "----"
   ]
  },
  {
   "cell_type": "code",
   "execution_count": 4,
   "metadata": {},
   "outputs": [
    {
     "data": {
      "image/png": "[encoded data removed]",
      "text/plain": [
       "<matplotlib.figure.Figure at 0x46294a8>"
      ]
     },
     "metadata": {},
     "output_type": "display_data"
    }
   ],
   "source": [
    "X, Y     = np.meshgrid(N, tf)\n",
    "cmap     = plt.get_cmap('gist_heat')\n",
    "levels   = np.linspace(Teff.min(), Teff.max(), 100)\n",
    "contplot = plt.contourf(X, Y, Teff, cmap=cmap, levels=levels)\n",
    "cb       = plt.colorbar(contplot)\n",
    "\n",
    "plt.xlabel('Bath size')\n",
    "plt.ylabel('Interaction time')\n",
    "plt.title('Temperature')\n",
    "\n",
    "frame1  = plt.gca()\n",
    "frame1.axes.xaxis.set_ticks([4, 8, 12, 16, 20])\n",
    "frame1.axes.yaxis.set_ticks([0, 50, 100, 150, 200])\n",
    "cb.set_ticks([1, 2, 3, 4])\n",
    "for c in contplot.collections:\n",
    "    c.set_edgecolor(\"face\")\n",
    "plt.show()"
   ]
  }
 ],
 "metadata": {
  "anaconda-cloud": {},
  "kernelspec": {
   "display_name": "Python 3",
   "language": "python",
   "name": "python3"
  },
  "language_info": {
   "codemirror_mode": {
    "name": "ipython",
    "version": 3
   },
   "file_extension": ".py",
   "mimetype": "text/x-python",
   "name": "python",
   "nbconvert_exporter": "python",
   "pygments_lexer": "ipython3",
   "version": "3.5.2"
  }
 },
 "nbformat": 4,
 "nbformat_minor": 2
}
